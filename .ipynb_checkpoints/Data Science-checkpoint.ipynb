{
 "cells": [
  {
   "cell_type": "code",
   "execution_count": 73,
   "metadata": {},
   "outputs": [],
   "source": [
    "import requests\n",
    "import json\n",
    "from collections import Counter\n",
    "import pandas as pd\n",
    "\n",
    "res=requests.get('https://cafenomad.tw/api/v1.2/cafes')"
   ]
  },
  {
   "cell_type": "code",
   "execution_count": 78,
   "metadata": {},
   "outputs": [],
   "source": [
    "data=json.loads(res.content)\n",
    "cityl=[]\n",
    "for i in range(0,len(data)):\n",
    "    cityl.append(data[i]['city'])"
   ]
  },
  {
   "cell_type": "code",
   "execution_count": 86,
   "metadata": {},
   "outputs": [
    {
     "data": {
      "text/plain": [
       "{'changhua': 52,\n",
       " 'chiayi': 43,\n",
       " 'hsinchu': 163,\n",
       " 'hualien': 34,\n",
       " 'kaohsiung': 242,\n",
       " 'keelung': 14,\n",
       " 'lienchiang': 2,\n",
       " 'miaoli': 17,\n",
       " 'nantou': 15,\n",
       " 'penghu': 9,\n",
       " 'pingtung': 33,\n",
       " 'taichung': 279,\n",
       " 'tainan': 194,\n",
       " 'taipei': 1210,\n",
       " 'taitung': 17,\n",
       " 'taoyuan': 166,\n",
       " 'yilan': 66,\n",
       " 'yunlin': 30}"
      ]
     },
     "execution_count": 86,
     "metadata": {},
     "output_type": "execute_result"
    }
   ],
   "source": [
    "dict(Counter(cityl))"
   ]
  }
 ],
 "metadata": {
  "kernelspec": {
   "display_name": "Python 3",
   "language": "python",
   "name": "python3"
  },
  "language_info": {
   "codemirror_mode": {
    "name": "ipython",
    "version": 3
   },
   "file_extension": ".py",
   "mimetype": "text/x-python",
   "name": "python",
   "nbconvert_exporter": "python",
   "pygments_lexer": "ipython3",
   "version": "3.6.4"
  }
 },
 "nbformat": 4,
 "nbformat_minor": 2
}
